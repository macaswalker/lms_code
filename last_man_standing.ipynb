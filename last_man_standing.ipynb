{
 "cells": [
  {
   "cell_type": "markdown",
   "metadata": {},
   "source": [
    "Last Man Standing - Optimal Strategies"
   ]
  },
  {
   "cell_type": "markdown",
   "metadata": {},
   "source": []
  },
  {
   "cell_type": "code",
   "execution_count": 1,
   "metadata": {},
   "outputs": [
    {
     "name": "stdout",
     "output_type": "stream",
     "text": [
      "Collecting footballdata\n",
      "  Downloading footballdata-0.3.1.tar.gz (9.1 kB)\n",
      "  Installing build dependencies ... \u001b[?25ldone\n",
      "\u001b[?25h  Getting requirements to build wheel ... \u001b[?25ldone\n",
      "\u001b[?25h  Preparing metadata (pyproject.toml) ... \u001b[?25ldone\n",
      "\u001b[?25hRequirement already satisfied: numpy in /Users/mac/Documents/Cambridge/MilnerResearch/Code/LLMs4dd_ccRCC/venv/lib/python3.11/site-packages (from footballdata) (1.26.4)\n",
      "Requirement already satisfied: pandas in /Users/mac/Documents/Cambridge/MilnerResearch/Code/LLMs4dd_ccRCC/venv/lib/python3.11/site-packages (from footballdata) (2.2.3)\n",
      "Requirement already satisfied: requests in /Users/mac/Documents/Cambridge/MilnerResearch/Code/LLMs4dd_ccRCC/venv/lib/python3.11/site-packages (from footballdata) (2.32.3)\n",
      "Collecting unidecode (from footballdata)\n",
      "  Downloading Unidecode-1.3.8-py3-none-any.whl.metadata (13 kB)\n",
      "Requirement already satisfied: python-dateutil>=2.8.2 in /Users/mac/Documents/Cambridge/MilnerResearch/Code/LLMs4dd_ccRCC/venv/lib/python3.11/site-packages (from pandas->footballdata) (2.9.0.post0)\n",
      "Requirement already satisfied: pytz>=2020.1 in /Users/mac/Documents/Cambridge/MilnerResearch/Code/LLMs4dd_ccRCC/venv/lib/python3.11/site-packages (from pandas->footballdata) (2024.2)\n",
      "Requirement already satisfied: tzdata>=2022.7 in /Users/mac/Documents/Cambridge/MilnerResearch/Code/LLMs4dd_ccRCC/venv/lib/python3.11/site-packages (from pandas->footballdata) (2024.2)\n",
      "Requirement already satisfied: charset-normalizer<4,>=2 in /Users/mac/Documents/Cambridge/MilnerResearch/Code/LLMs4dd_ccRCC/venv/lib/python3.11/site-packages (from requests->footballdata) (3.4.1)\n",
      "Requirement already satisfied: idna<4,>=2.5 in /Users/mac/Documents/Cambridge/MilnerResearch/Code/LLMs4dd_ccRCC/venv/lib/python3.11/site-packages (from requests->footballdata) (3.10)\n",
      "Requirement already satisfied: urllib3<3,>=1.21.1 in /Users/mac/Documents/Cambridge/MilnerResearch/Code/LLMs4dd_ccRCC/venv/lib/python3.11/site-packages (from requests->footballdata) (2.3.0)\n",
      "Requirement already satisfied: certifi>=2017.4.17 in /Users/mac/Documents/Cambridge/MilnerResearch/Code/LLMs4dd_ccRCC/venv/lib/python3.11/site-packages (from requests->footballdata) (2025.1.31)\n",
      "Requirement already satisfied: six>=1.5 in /Users/mac/Documents/Cambridge/MilnerResearch/Code/LLMs4dd_ccRCC/venv/lib/python3.11/site-packages (from python-dateutil>=2.8.2->pandas->footballdata) (1.17.0)\n",
      "Downloading Unidecode-1.3.8-py3-none-any.whl (235 kB)\n",
      "Building wheels for collected packages: footballdata\n",
      "  Building wheel for footballdata (pyproject.toml) ... \u001b[?25ldone\n",
      "\u001b[?25h  Created wheel for footballdata: filename=footballdata-0.3.1-py3-none-any.whl size=11367 sha256=ad9fbdae1c7c580d104f0d41cfcb1853daf1ad85c7e03c570baaf56228668b05\n",
      "  Stored in directory: /Users/mac/Library/Caches/pip/wheels/47/96/97/c110619fa9665180b09a1b8bcf1e46cf50bb1233a20ecc5ead\n",
      "Successfully built footballdata\n",
      "Installing collected packages: unidecode, footballdata\n",
      "Successfully installed footballdata-0.3.1 unidecode-1.3.8\n"
     ]
    }
   ],
   "source": [
    "!pip install footballdata"
   ]
  },
  {
   "cell_type": "code",
   "execution_count": 2,
   "metadata": {},
   "outputs": [],
   "source": [
    "%matplotlib inline\n",
    "%config InlineBackend.figure_format = 'retina'\n",
    "\n",
    "import matplotlib.pyplot as plt\n",
    "import numpy as np\n",
    "np.random.seed(1234)\n",
    "import pandas as pd\n",
    "import itertools\n",
    "\n",
    "from matplotlib.pyplot import figure, show\n",
    "import pprint as pp"
   ]
  },
  {
   "cell_type": "code",
   "execution_count": 13,
   "metadata": {},
   "outputs": [
    {
     "name": "stdout",
     "output_type": "stream",
     "text": [
      "['Div', 'Date', 'Time', 'HomeTeam', 'AwayTeam', 'FTHG', 'FTAG', 'FTR', 'HTHG', 'HTAG', 'HTR', 'Referee', 'HS', 'AS', 'HST', 'AST', 'HF', 'AF', 'HC', 'AC', 'HY', 'AY', 'HR', 'AR', 'B365H', 'B365D', 'B365A', 'BWH', 'BWD', 'BWA', 'IWH', 'IWD', 'IWA', 'PSH', 'PSD', 'PSA', 'WHH', 'WHD', 'WHA', 'VCH', 'VCD', 'VCA', 'MaxH', 'MaxD', 'MaxA', 'AvgH', 'AvgD', 'AvgA', 'B365>2.5', 'B365<2.5', 'P>2.5', 'P<2.5', 'Max>2.5', 'Max<2.5', 'Avg>2.5', 'Avg<2.5', 'AHh', 'B365AHH', 'B365AHA', 'PAHH', 'PAHA', 'MaxAHH', 'MaxAHA', 'AvgAHH', 'AvgAHA', 'B365CH', 'B365CD', 'B365CA', 'BWCH', 'BWCD', 'BWCA', 'IWCH', 'IWCD', 'IWCA', 'PSCH', 'PSCD', 'PSCA', 'WHCH', 'WHCD', 'WHCA', 'VCCH', 'VCCD', 'VCCA', 'MaxCH', 'MaxCD', 'MaxCA', 'AvgCH', 'AvgCD', 'AvgCA', 'B365C>2.5', 'B365C<2.5', 'PC>2.5', 'PC<2.5', 'MaxC>2.5', 'MaxC<2.5', 'AvgC>2.5', 'AvgC<2.5', 'AHCh', 'B365CAHH', 'B365CAHA', 'PCAHH', 'PCAHA', 'MaxCAHH', 'MaxCAHA', 'AvgCAHH', 'AvgCAHA']\n",
      "0     1.33\n",
      "1    15.00\n",
      "2     2.55\n",
      "3     9.00\n",
      "4     3.30\n",
      "Name: B365A, dtype: float64\n"
     ]
    }
   ],
   "source": [
    "data = pd.read_csv(\"23_24_epl.csv\")\n",
    "data.head()\n",
    "print(list(data))\n",
    "\n",
    "data = data[\"B365A\"]\n",
    "print(data.head())"
   ]
  }
 ],
 "metadata": {
  "kernelspec": {
   "display_name": "Python 3.12.0 64-bit",
   "language": "python",
   "name": "python3"
  },
  "language_info": {
   "codemirror_mode": {
    "name": "ipython",
    "version": 3
   },
   "file_extension": ".py",
   "mimetype": "text/x-python",
   "name": "python",
   "nbconvert_exporter": "python",
   "pygments_lexer": "ipython3",
   "version": "3.12.0"
  },
  "orig_nbformat": 4,
  "vscode": {
   "interpreter": {
    "hash": "aee8b7b246df8f9039afb4144a1f6fd8d2ca17a180786b69acc140d282b71a49"
   }
  }
 },
 "nbformat": 4,
 "nbformat_minor": 2
}
